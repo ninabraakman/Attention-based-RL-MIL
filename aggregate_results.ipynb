{
 "cells": [
  {
   "cell_type": "code",
   "execution_count": 1,
   "metadata": {
    "ExecuteTime": {
     "end_time": "2023-07-14T22:17:34.310872348Z",
     "start_time": "2023-07-14T22:17:34.302037929Z"
    }
   },
   "outputs": [],
   "source": [
    "%reload_ext autoreload\n",
    "%autoreload 2"
   ]
  },
  {
   "cell_type": "code",
   "execution_count": 2,
   "metadata": {},
   "outputs": [],
   "source": [
    "import os\n",
    "import sys\n",
    "import numpy as np\n",
    "\n",
    "sys.path.append(\"../\")"
   ]
  },
  {
   "cell_type": "code",
   "execution_count": 3,
   "metadata": {
    "ExecuteTime": {
     "end_time": "2023-07-14T22:17:34.988344683Z",
     "start_time": "2023-07-14T22:17:34.311262786Z"
    }
   },
   "outputs": [],
   "source": [
    "import matplotlib.pyplot as plt\n",
    "import matplotlib.ticker as ticker\n",
    "import pandas as pd\n",
    "import seaborn as sns\n",
    "import torch\n",
    "\n",
    "from aggregate_results import agg_all_results, agg_mil_results, agg_rlmil_results, add_formatted_column, save_dataset_table"
   ]
  },
  {
   "cell_type": "markdown",
   "metadata": {},
   "source": [
    "# Classification results"
   ]
  },
  {
   "cell_type": "code",
   "execution_count": 5,
   "metadata": {},
   "outputs": [
    {
     "name": "stdout",
     "output_type": "stream",
     "text": [
      "runs/classification/seed_1/oulad_full/instances/tabular/label/bag_size_20/AttentionMLP_20_16_20/neg_policy_only_loss_epsilon_greedy_reg_sum_sample_static\n"
     ]
    },
    {
     "name": "stderr",
     "output_type": "stream",
     "text": [
      "/projects/prjs1491/Attention-based-RL-MIL/venv/lib64/python3.9/site-packages/torch/cuda/__init__.py:789: UserWarning: Can't initialize NVML\n",
      "  warnings.warn(\"Can't initialize NVML\")\n"
     ]
    },
    {
     "ename": "FileNotFoundError",
     "evalue": "[Errno 2] No such file or directory: 'runs/classification/seed_1/oulad_full/instances/tabular/label/bag_size_20/AttentionMLP_20_16_20/neg_policy_only_loss_epsilon_greedy_reg_sum_sample_static/sweep_best_model_config.json'",
     "output_type": "error",
     "traceback": [
      "\u001b[0;31m---------------------------------------------------------------------------\u001b[0m",
      "\u001b[0;31mFileNotFoundError\u001b[0m                         Traceback (most recent call last)",
      "Cell \u001b[0;32mIn[5], line 8\u001b[0m\n\u001b[1;32m      5\u001b[0m task_type \u001b[38;5;241m=\u001b[39m \u001b[38;5;124m'\u001b[39m\u001b[38;5;124mclassification\u001b[39m\u001b[38;5;124m'\u001b[39m\n\u001b[1;32m      6\u001b[0m device \u001b[38;5;241m=\u001b[39m torch\u001b[38;5;241m.\u001b[39mdevice(\u001b[38;5;124m\"\u001b[39m\u001b[38;5;124mcuda\u001b[39m\u001b[38;5;124m\"\u001b[39m \u001b[38;5;28;01mif\u001b[39;00m torch\u001b[38;5;241m.\u001b[39mcuda\u001b[38;5;241m.\u001b[39mis_available() \u001b[38;5;28;01melse\u001b[39;00m \u001b[38;5;124m\"\u001b[39m\u001b[38;5;124mcpu\u001b[39m\u001b[38;5;124m\"\u001b[39m)\n\u001b[0;32m----> 8\u001b[0m classification_results \u001b[38;5;241m=\u001b[39m \u001b[43magg_all_results\u001b[49m\u001b[43m(\u001b[49m\u001b[43mdevice\u001b[49m\u001b[38;5;241;43m=\u001b[39;49m\u001b[43mdevice\u001b[49m\u001b[43m,\u001b[49m\u001b[43m \u001b[49m\u001b[43mdata_dir_path\u001b[49m\u001b[38;5;241;43m=\u001b[39;49m\u001b[43mdata_path\u001b[49m\u001b[43m,\u001b[49m\u001b[43m \u001b[49m\u001b[43mmodels_dir_path\u001b[49m\u001b[38;5;241;43m=\u001b[39;49m\u001b[43mmodel_path\u001b[49m\u001b[43m,\u001b[49m\n\u001b[1;32m      9\u001b[0m \u001b[43m                                      \u001b[49m\u001b[43mbag_embedded_column_name\u001b[49m\u001b[38;5;241;43m=\u001b[39;49m\u001b[43mbag_embedding_column_name\u001b[49m\u001b[43m,\u001b[49m\u001b[43m \u001b[49m\u001b[43mtask_type\u001b[49m\u001b[38;5;241;43m=\u001b[39;49m\u001b[43mtask_type\u001b[49m\u001b[43m)\u001b[49m\n",
      "File \u001b[0;32m/gpfs/work5/0/prjs1491/Attention-based-RL-MIL/aggregate_results.py:48\u001b[0m, in \u001b[0;36magg_all_results\u001b[0;34m(device, data_dir_path, models_dir_path, bag_embedded_column_name, task_type, config_vars)\u001b[0m\n\u001b[1;32m     44\u001b[0m \u001b[38;5;28;01mdef\u001b[39;00m\u001b[38;5;250m \u001b[39m\u001b[38;5;21magg_all_results\u001b[39m(device, data_dir_path, models_dir_path, bag_embedded_column_name,  task_type, config_vars\u001b[38;5;241m=\u001b[39m[]):\n\u001b[1;32m     46\u001b[0m     mil_results \u001b[38;5;241m=\u001b[39m agg_mil_results(device, data_dir_path, models_dir_path, \n\u001b[1;32m     47\u001b[0m                                   bag_embedded_column_name,  task_type, config_vars)\n\u001b[0;32m---> 48\u001b[0m     rlmil_results \u001b[38;5;241m=\u001b[39m \u001b[43magg_rlmil_results\u001b[49m\u001b[43m(\u001b[49m\u001b[43mdevice\u001b[49m\u001b[43m,\u001b[49m\u001b[43m \u001b[49m\u001b[43mdata_dir_path\u001b[49m\u001b[43m,\u001b[49m\u001b[43m \u001b[49m\u001b[43mmodels_dir_path\u001b[49m\u001b[43m,\u001b[49m\u001b[43m \u001b[49m\n\u001b[1;32m     49\u001b[0m \u001b[43m                                      \u001b[49m\u001b[43mbag_embedded_column_name\u001b[49m\u001b[43m,\u001b[49m\u001b[43m  \u001b[49m\u001b[43mtask_type\u001b[49m\u001b[43m,\u001b[49m\u001b[43m \u001b[49m\u001b[43mconfig_vars\u001b[49m\u001b[43m)\u001b[49m\n\u001b[1;32m     51\u001b[0m     df \u001b[38;5;241m=\u001b[39m pd\u001b[38;5;241m.\u001b[39mconcat([mil_results, rlmil_results])\n\u001b[1;32m     52\u001b[0m     \u001b[38;5;28;01mreturn\u001b[39;00m df\n",
      "File \u001b[0;32m/gpfs/work5/0/prjs1491/Attention-based-RL-MIL/aggregate_results.py:109\u001b[0m, in \u001b[0;36magg_rlmil_results\u001b[0;34m(device, data_dir_path, models_dir_path, bag_embedded_column_name, task_type, config_vars, in_seeds)\u001b[0m\n\u001b[1;32m    107\u001b[0m \u001b[38;5;28mprint\u001b[39m(root)\n\u001b[1;32m    108\u001b[0m set_seed(\u001b[38;5;28mint\u001b[39m(random_seed))\n\u001b[0;32m--> 109\u001b[0m metrics, csv_df \u001b[38;5;241m=\u001b[39m \u001b[43mgenerate_result_for_rlmil_model\u001b[49m\u001b[43m(\u001b[49m\u001b[43mroot\u001b[49m\u001b[43m,\u001b[49m\u001b[43m \u001b[49m\u001b[43mdevice\u001b[49m\u001b[43m,\u001b[49m\u001b[43m \u001b[49m\u001b[43mrandom_seed\u001b[49m\u001b[43m,\u001b[49m\u001b[43m \u001b[49m\u001b[43mdata_dir_path\u001b[49m\u001b[43m,\u001b[49m\u001b[43m \u001b[49m\u001b[43mdataset\u001b[49m\u001b[43m,\u001b[49m\u001b[43m \u001b[49m\n\u001b[1;32m    110\u001b[0m \u001b[43m                                        \u001b[49m\u001b[43mdata_embedded_column_name\u001b[49m\u001b[43m,\u001b[49m\u001b[43m \u001b[49m\u001b[43membedding_model_name\u001b[49m\u001b[43m,\u001b[49m\u001b[43m \u001b[49m\u001b[43mtarget_column_name\u001b[49m\u001b[43m,\u001b[49m\u001b[43m \u001b[49m\n\u001b[1;32m    111\u001b[0m \u001b[43m                                        \u001b[49m\u001b[43mbag_size\u001b[49m\u001b[43m,\u001b[49m\u001b[43m \u001b[49m\u001b[43mbag_embedded_column_name\u001b[49m\u001b[43m,\u001b[49m\u001b[43m \u001b[49m\u001b[43mtask_type\u001b[49m\u001b[38;5;241;43m=\u001b[39;49m\u001b[43mtask_type\u001b[49m\u001b[43m)\u001b[49m\n\u001b[1;32m    112\u001b[0m \u001b[38;5;28;01mif\u001b[39;00m \u001b[38;5;28mlen\u001b[39m(metrics) \u001b[38;5;241m!=\u001b[39m \u001b[38;5;241m0\u001b[39m:\n\u001b[1;32m    113\u001b[0m     metrics\u001b[38;5;241m.\u001b[39mupdate({\n\u001b[1;32m    114\u001b[0m         \u001b[38;5;124m\"\u001b[39m\u001b[38;5;124mmodel\u001b[39m\u001b[38;5;124m\"\u001b[39m: \u001b[38;5;124m\"\u001b[39m\u001b[38;5;124mrl-\u001b[39m\u001b[38;5;124m\"\u001b[39m \u001b[38;5;241m+\u001b[39m model_name\u001b[38;5;241m.\u001b[39msplit(\u001b[38;5;124m\"\u001b[39m\u001b[38;5;124m_\u001b[39m\u001b[38;5;124m\"\u001b[39m)[\u001b[38;5;241m0\u001b[39m],\n\u001b[1;32m    115\u001b[0m         \u001b[38;5;124m\"\u001b[39m\u001b[38;5;124membedding_model\u001b[39m\u001b[38;5;124m\"\u001b[39m: embedding_model_name,\n\u001b[0;32m   (...)\u001b[0m\n\u001b[1;32m    120\u001b[0m         \u001b[38;5;124m\"\u001b[39m\u001b[38;5;124mprefix\u001b[39m\u001b[38;5;124m\"\u001b[39m: prefix,\n\u001b[1;32m    121\u001b[0m         })\n",
      "File \u001b[0;32m/gpfs/work5/0/prjs1491/Attention-based-RL-MIL/aggregate_results.py:217\u001b[0m, in \u001b[0;36mgenerate_result_for_rlmil_model\u001b[0;34m(model_path, device, random_seed, data_dir_path, dataset, data_embedded_column_name, embedding_model_name, target_column_name, bag_size, bag_embedded_column_name, task_type)\u001b[0m\n\u001b[1;32m    212\u001b[0m metric_name \u001b[38;5;241m=\u001b[39m \u001b[38;5;124m'\u001b[39m\u001b[38;5;124mf1\u001b[39m\u001b[38;5;124m'\u001b[39m \u001b[38;5;28;01mif\u001b[39;00m task_type \u001b[38;5;241m==\u001b[39m \u001b[38;5;124m'\u001b[39m\u001b[38;5;124mclassification\u001b[39m\u001b[38;5;124m'\u001b[39m \u001b[38;5;28;01melse\u001b[39;00m \u001b[38;5;124m'\u001b[39m\u001b[38;5;124mr2\u001b[39m\u001b[38;5;124m'\u001b[39m\n\u001b[1;32m    214\u001b[0m dataloaders \u001b[38;5;241m=\u001b[39m get_dataloaders(data_dir_path, random_seed, dataset, data_embedded_column_name, embedding_model_name, \n\u001b[1;32m    215\u001b[0m                                         target_column_name, bag_size, bag_embedded_column_name, subset)\n\u001b[0;32m--> 217\u001b[0m policy_network \u001b[38;5;241m=\u001b[39m \u001b[43mload_rlmil_model\u001b[49m\u001b[43m(\u001b[49m\u001b[43mmodel_path\u001b[49m\u001b[43m,\u001b[49m\u001b[43m \u001b[49m\u001b[43mdevice\u001b[49m\u001b[43m)\u001b[49m\n\u001b[1;32m    218\u001b[0m policy_network\u001b[38;5;241m.\u001b[39meval()\n\u001b[1;32m    219\u001b[0m \u001b[38;5;66;03m# pool_size = 1 if policy_network.sample_algorithm == 'static' else 10\u001b[39;00m\n",
      "File \u001b[0;32m/gpfs/work5/0/prjs1491/Attention-based-RL-MIL/aggregate_results.py:26\u001b[0m, in \u001b[0;36mload_rlmil_model\u001b[0;34m(model_path, device)\u001b[0m\n\u001b[1;32m     25\u001b[0m \u001b[38;5;28;01mdef\u001b[39;00m\u001b[38;5;250m \u001b[39m\u001b[38;5;21mload_rlmil_model\u001b[39m(model_path, device):\n\u001b[0;32m---> 26\u001b[0m     rl_config \u001b[38;5;241m=\u001b[39m \u001b[43mload_json\u001b[49m\u001b[43m(\u001b[49m\u001b[43mos\u001b[49m\u001b[38;5;241;43m.\u001b[39;49m\u001b[43mpath\u001b[49m\u001b[38;5;241;43m.\u001b[39;49m\u001b[43mjoin\u001b[49m\u001b[43m(\u001b[49m\u001b[43mmodel_path\u001b[49m\u001b[43m,\u001b[49m\u001b[43m \u001b[49m\u001b[38;5;124;43m\"\u001b[39;49m\u001b[38;5;124;43msweep_best_model_config.json\u001b[39;49m\u001b[38;5;124;43m\"\u001b[39;49m\u001b[43m)\u001b[49m\u001b[43m)\u001b[49m\n\u001b[1;32m     27\u001b[0m     task_model \u001b[38;5;241m=\u001b[39m load_mil_model(os\u001b[38;5;241m.\u001b[39mpath\u001b[38;5;241m.\u001b[39mjoin(model_path, \u001b[38;5;124m\"\u001b[39m\u001b[38;5;124m../\u001b[39m\u001b[38;5;124m\"\u001b[39m))\n\u001b[1;32m     28\u001b[0m     policy_network \u001b[38;5;241m=\u001b[39m PolicyNetwork(task_model\u001b[38;5;241m=\u001b[39mtask_model,\n\u001b[1;32m     29\u001b[0m                                    state_dim\u001b[38;5;241m=\u001b[39mrl_config[\u001b[38;5;124m'\u001b[39m\u001b[38;5;124mstate_dim\u001b[39m\u001b[38;5;124m'\u001b[39m],\n\u001b[1;32m     30\u001b[0m                                    hdim\u001b[38;5;241m=\u001b[39mrl_config[\u001b[38;5;124m'\u001b[39m\u001b[38;5;124mhdim\u001b[39m\u001b[38;5;124m'\u001b[39m],\n\u001b[0;32m   (...)\u001b[0m\n\u001b[1;32m     36\u001b[0m                                    no_autoencoder_for_rl\u001b[38;5;241m=\u001b[39mrl_config[\u001b[38;5;124m'\u001b[39m\u001b[38;5;124mno_autoencoder_for_rl\u001b[39m\u001b[38;5;124m'\u001b[39m],\n\u001b[1;32m     37\u001b[0m                                    device\u001b[38;5;241m=\u001b[39mdevice)\n",
      "File \u001b[0;32m/gpfs/work5/0/prjs1491/Attention-based-RL-MIL/utils.py:192\u001b[0m, in \u001b[0;36mload_json\u001b[0;34m(path)\u001b[0m\n\u001b[1;32m    191\u001b[0m \u001b[38;5;28;01mdef\u001b[39;00m\u001b[38;5;250m \u001b[39m\u001b[38;5;21mload_json\u001b[39m(path):\n\u001b[0;32m--> 192\u001b[0m     \u001b[38;5;28;01mwith\u001b[39;00m \u001b[38;5;28;43mopen\u001b[39;49m\u001b[43m(\u001b[49m\u001b[43mpath\u001b[49m\u001b[43m,\u001b[49m\u001b[43m \u001b[49m\u001b[38;5;124;43m\"\u001b[39;49m\u001b[38;5;124;43mr\u001b[39;49m\u001b[38;5;124;43m\"\u001b[39;49m\u001b[43m)\u001b[49m \u001b[38;5;28;01mas\u001b[39;00m f:\n\u001b[1;32m    193\u001b[0m         data \u001b[38;5;241m=\u001b[39m json\u001b[38;5;241m.\u001b[39mload(f)\n\u001b[1;32m    194\u001b[0m     \u001b[38;5;28;01mreturn\u001b[39;00m data\n",
      "\u001b[0;31mFileNotFoundError\u001b[0m: [Errno 2] No such file or directory: 'runs/classification/seed_1/oulad_full/instances/tabular/label/bag_size_20/AttentionMLP_20_16_20/neg_policy_only_loss_epsilon_greedy_reg_sum_sample_static/sweep_best_model_config.json'"
     ]
    }
   ],
   "source": [
    "data_path = 'data'\n",
    "model_path = 'runs'\n",
    "bag_embedding_column_name = \"bag_embeddings\"\n",
    "\n",
    "task_type = 'classification'\n",
    "device = torch.device(\"cuda\" if torch.cuda.is_available() else \"cpu\")\n",
    "\n",
    "classification_results = agg_all_results(device=device, data_dir_path=data_path, models_dir_path=model_path,\n",
    "                                      bag_embedded_column_name=bag_embedding_column_name, task_type=task_type)"
   ]
  },
  {
   "cell_type": "code",
   "execution_count": 7,
   "metadata": {},
   "outputs": [
    {
     "name": "stdout",
     "output_type": "stream",
     "text": [
      "(80, 15)\n",
      "          model embedding_model  bag_size           dataset  label seed  \\\n",
      "0        repset         tabular      20.0  oulad_aggregated  label    6   \n",
      "1       MeanMLP         tabular      20.0  oulad_aggregated  label    6   \n",
      "2  AttentionMLP         tabular      20.0  oulad_aggregated  label    6   \n",
      "3        MaxMLP         tabular      20.0  oulad_aggregated  label    6   \n",
      "4  AttentionMLP         tabular      20.0        oulad_full  label    6   \n",
      "\n",
      "   test/loss  eval/loss  test/auc   test/f1  eval/auc   eval/f1  \\\n",
      "0   0.191276   0.219281  0.975247  0.923542  0.965244  0.909001   \n",
      "1   0.179579   0.206879  0.978390  0.925319  0.969900  0.914630   \n",
      "2   0.198495   0.214480  0.973977  0.915021  0.967737  0.910491   \n",
      "3   0.206336   0.223253  0.970378  0.913455  0.964462  0.904335   \n",
      "4   0.518238   0.511789  0.938730  0.706852  0.930007  0.704031   \n",
      "\n",
      "   eval/f1_micro  test/f1_micro  prefix  \n",
      "0       0.911614       0.924763     NaN  \n",
      "1       0.917093       0.926589     NaN  \n",
      "2       0.913440       0.916728     NaN  \n",
      "3       0.906501       0.914536     NaN  \n",
      "4       0.744704       0.739591     NaN  \n"
     ]
    },
    {
     "data": {
      "text/html": [
       "<div>\n",
       "<style scoped>\n",
       "    .dataframe tbody tr th:only-of-type {\n",
       "        vertical-align: middle;\n",
       "    }\n",
       "\n",
       "    .dataframe tbody tr th {\n",
       "        vertical-align: top;\n",
       "    }\n",
       "\n",
       "    .dataframe thead th {\n",
       "        text-align: right;\n",
       "    }\n",
       "</style>\n",
       "<table border=\"1\" class=\"dataframe\">\n",
       "  <thead>\n",
       "    <tr style=\"text-align: right;\">\n",
       "      <th></th>\n",
       "      <th>model</th>\n",
       "      <th>embedding_model</th>\n",
       "      <th>bag_size</th>\n",
       "      <th>dataset</th>\n",
       "      <th>label</th>\n",
       "      <th>seed</th>\n",
       "      <th>test/loss</th>\n",
       "      <th>eval/loss</th>\n",
       "      <th>test/auc</th>\n",
       "      <th>test/f1</th>\n",
       "      <th>eval/auc</th>\n",
       "      <th>eval/f1</th>\n",
       "      <th>eval/f1_micro</th>\n",
       "      <th>test/f1_micro</th>\n",
       "      <th>prefix</th>\n",
       "    </tr>\n",
       "  </thead>\n",
       "  <tbody>\n",
       "    <tr>\n",
       "      <th>0</th>\n",
       "      <td>repset</td>\n",
       "      <td>tabular</td>\n",
       "      <td>20.0</td>\n",
       "      <td>oulad_aggregated</td>\n",
       "      <td>label</td>\n",
       "      <td>6</td>\n",
       "      <td>0.191276</td>\n",
       "      <td>0.219281</td>\n",
       "      <td>0.975247</td>\n",
       "      <td>0.923542</td>\n",
       "      <td>0.965244</td>\n",
       "      <td>0.909001</td>\n",
       "      <td>0.911614</td>\n",
       "      <td>0.924763</td>\n",
       "      <td>NaN</td>\n",
       "    </tr>\n",
       "    <tr>\n",
       "      <th>1</th>\n",
       "      <td>MeanMLP</td>\n",
       "      <td>tabular</td>\n",
       "      <td>20.0</td>\n",
       "      <td>oulad_aggregated</td>\n",
       "      <td>label</td>\n",
       "      <td>6</td>\n",
       "      <td>0.179579</td>\n",
       "      <td>0.206879</td>\n",
       "      <td>0.978390</td>\n",
       "      <td>0.925319</td>\n",
       "      <td>0.969900</td>\n",
       "      <td>0.914630</td>\n",
       "      <td>0.917093</td>\n",
       "      <td>0.926589</td>\n",
       "      <td>NaN</td>\n",
       "    </tr>\n",
       "    <tr>\n",
       "      <th>2</th>\n",
       "      <td>AttentionMLP</td>\n",
       "      <td>tabular</td>\n",
       "      <td>20.0</td>\n",
       "      <td>oulad_aggregated</td>\n",
       "      <td>label</td>\n",
       "      <td>6</td>\n",
       "      <td>0.198495</td>\n",
       "      <td>0.214480</td>\n",
       "      <td>0.973977</td>\n",
       "      <td>0.915021</td>\n",
       "      <td>0.967737</td>\n",
       "      <td>0.910491</td>\n",
       "      <td>0.913440</td>\n",
       "      <td>0.916728</td>\n",
       "      <td>NaN</td>\n",
       "    </tr>\n",
       "    <tr>\n",
       "      <th>3</th>\n",
       "      <td>MaxMLP</td>\n",
       "      <td>tabular</td>\n",
       "      <td>20.0</td>\n",
       "      <td>oulad_aggregated</td>\n",
       "      <td>label</td>\n",
       "      <td>6</td>\n",
       "      <td>0.206336</td>\n",
       "      <td>0.223253</td>\n",
       "      <td>0.970378</td>\n",
       "      <td>0.913455</td>\n",
       "      <td>0.964462</td>\n",
       "      <td>0.904335</td>\n",
       "      <td>0.906501</td>\n",
       "      <td>0.914536</td>\n",
       "      <td>NaN</td>\n",
       "    </tr>\n",
       "    <tr>\n",
       "      <th>4</th>\n",
       "      <td>AttentionMLP</td>\n",
       "      <td>tabular</td>\n",
       "      <td>20.0</td>\n",
       "      <td>oulad_full</td>\n",
       "      <td>label</td>\n",
       "      <td>6</td>\n",
       "      <td>0.518238</td>\n",
       "      <td>0.511789</td>\n",
       "      <td>0.938730</td>\n",
       "      <td>0.706852</td>\n",
       "      <td>0.930007</td>\n",
       "      <td>0.704031</td>\n",
       "      <td>0.744704</td>\n",
       "      <td>0.739591</td>\n",
       "      <td>NaN</td>\n",
       "    </tr>\n",
       "    <tr>\n",
       "      <th>...</th>\n",
       "      <td>...</td>\n",
       "      <td>...</td>\n",
       "      <td>...</td>\n",
       "      <td>...</td>\n",
       "      <td>...</td>\n",
       "      <td>...</td>\n",
       "      <td>...</td>\n",
       "      <td>...</td>\n",
       "      <td>...</td>\n",
       "      <td>...</td>\n",
       "      <td>...</td>\n",
       "      <td>...</td>\n",
       "      <td>...</td>\n",
       "      <td>...</td>\n",
       "      <td>...</td>\n",
       "    </tr>\n",
       "    <tr>\n",
       "      <th>75</th>\n",
       "      <td>MaxMLP</td>\n",
       "      <td>tabular</td>\n",
       "      <td>20.0</td>\n",
       "      <td>oulad_aggregated</td>\n",
       "      <td>label</td>\n",
       "      <td>5</td>\n",
       "      <td>0.303711</td>\n",
       "      <td>0.286166</td>\n",
       "      <td>0.948584</td>\n",
       "      <td>0.843219</td>\n",
       "      <td>0.958432</td>\n",
       "      <td>0.850690</td>\n",
       "      <td>0.850986</td>\n",
       "      <td>0.844047</td>\n",
       "      <td>NaN</td>\n",
       "    </tr>\n",
       "    <tr>\n",
       "      <th>76</th>\n",
       "      <td>AttentionMLP</td>\n",
       "      <td>tabular</td>\n",
       "      <td>20.0</td>\n",
       "      <td>oulad_full</td>\n",
       "      <td>label</td>\n",
       "      <td>5</td>\n",
       "      <td>0.494108</td>\n",
       "      <td>0.491619</td>\n",
       "      <td>0.921748</td>\n",
       "      <td>0.713370</td>\n",
       "      <td>0.923127</td>\n",
       "      <td>0.724328</td>\n",
       "      <td>0.758218</td>\n",
       "      <td>0.754565</td>\n",
       "      <td>NaN</td>\n",
       "    </tr>\n",
       "    <tr>\n",
       "      <th>77</th>\n",
       "      <td>MaxMLP</td>\n",
       "      <td>tabular</td>\n",
       "      <td>20.0</td>\n",
       "      <td>oulad_full</td>\n",
       "      <td>label</td>\n",
       "      <td>5</td>\n",
       "      <td>0.394357</td>\n",
       "      <td>0.383587</td>\n",
       "      <td>0.934312</td>\n",
       "      <td>0.834065</td>\n",
       "      <td>0.942925</td>\n",
       "      <td>0.837679</td>\n",
       "      <td>0.846603</td>\n",
       "      <td>0.845508</td>\n",
       "      <td>NaN</td>\n",
       "    </tr>\n",
       "    <tr>\n",
       "      <th>78</th>\n",
       "      <td>MeanMLP</td>\n",
       "      <td>tabular</td>\n",
       "      <td>20.0</td>\n",
       "      <td>oulad_full</td>\n",
       "      <td>label</td>\n",
       "      <td>5</td>\n",
       "      <td>0.460597</td>\n",
       "      <td>0.441344</td>\n",
       "      <td>0.919879</td>\n",
       "      <td>0.809914</td>\n",
       "      <td>0.926757</td>\n",
       "      <td>0.822376</td>\n",
       "      <td>0.834186</td>\n",
       "      <td>0.825420</td>\n",
       "      <td>NaN</td>\n",
       "    </tr>\n",
       "    <tr>\n",
       "      <th>79</th>\n",
       "      <td>repset</td>\n",
       "      <td>tabular</td>\n",
       "      <td>20.0</td>\n",
       "      <td>oulad_full</td>\n",
       "      <td>label</td>\n",
       "      <td>5</td>\n",
       "      <td>0.641220</td>\n",
       "      <td>0.618623</td>\n",
       "      <td>0.944054</td>\n",
       "      <td>0.760835</td>\n",
       "      <td>0.950531</td>\n",
       "      <td>0.759184</td>\n",
       "      <td>0.785610</td>\n",
       "      <td>0.789627</td>\n",
       "      <td>NaN</td>\n",
       "    </tr>\n",
       "  </tbody>\n",
       "</table>\n",
       "<p>80 rows × 15 columns</p>\n",
       "</div>"
      ],
      "text/plain": [
       "           model embedding_model  bag_size           dataset  label seed  \\\n",
       "0         repset         tabular      20.0  oulad_aggregated  label    6   \n",
       "1        MeanMLP         tabular      20.0  oulad_aggregated  label    6   \n",
       "2   AttentionMLP         tabular      20.0  oulad_aggregated  label    6   \n",
       "3         MaxMLP         tabular      20.0  oulad_aggregated  label    6   \n",
       "4   AttentionMLP         tabular      20.0        oulad_full  label    6   \n",
       "..           ...             ...       ...               ...    ...  ...   \n",
       "75        MaxMLP         tabular      20.0  oulad_aggregated  label    5   \n",
       "76  AttentionMLP         tabular      20.0        oulad_full  label    5   \n",
       "77        MaxMLP         tabular      20.0        oulad_full  label    5   \n",
       "78       MeanMLP         tabular      20.0        oulad_full  label    5   \n",
       "79        repset         tabular      20.0        oulad_full  label    5   \n",
       "\n",
       "    test/loss  eval/loss  test/auc   test/f1  eval/auc   eval/f1  \\\n",
       "0    0.191276   0.219281  0.975247  0.923542  0.965244  0.909001   \n",
       "1    0.179579   0.206879  0.978390  0.925319  0.969900  0.914630   \n",
       "2    0.198495   0.214480  0.973977  0.915021  0.967737  0.910491   \n",
       "3    0.206336   0.223253  0.970378  0.913455  0.964462  0.904335   \n",
       "4    0.518238   0.511789  0.938730  0.706852  0.930007  0.704031   \n",
       "..        ...        ...       ...       ...       ...       ...   \n",
       "75   0.303711   0.286166  0.948584  0.843219  0.958432  0.850690   \n",
       "76   0.494108   0.491619  0.921748  0.713370  0.923127  0.724328   \n",
       "77   0.394357   0.383587  0.934312  0.834065  0.942925  0.837679   \n",
       "78   0.460597   0.441344  0.919879  0.809914  0.926757  0.822376   \n",
       "79   0.641220   0.618623  0.944054  0.760835  0.950531  0.759184   \n",
       "\n",
       "    eval/f1_micro  test/f1_micro  prefix  \n",
       "0        0.911614       0.924763     NaN  \n",
       "1        0.917093       0.926589     NaN  \n",
       "2        0.913440       0.916728     NaN  \n",
       "3        0.906501       0.914536     NaN  \n",
       "4        0.744704       0.739591     NaN  \n",
       "..            ...            ...     ...  \n",
       "75       0.850986       0.844047     NaN  \n",
       "76       0.758218       0.754565     NaN  \n",
       "77       0.846603       0.845508     NaN  \n",
       "78       0.834186       0.825420     NaN  \n",
       "79       0.785610       0.789627     NaN  \n",
       "\n",
       "[80 rows x 15 columns]"
      ]
     },
     "execution_count": 7,
     "metadata": {},
     "output_type": "execute_result"
    }
   ],
   "source": [
    "print(classification_results.shape)\n",
    "print(classification_results.head())\n",
    "classification_results"
   ]
  },
  {
   "cell_type": "markdown",
   "metadata": {},
   "source": [
    "# Tables"
   ]
  },
  {
   "cell_type": "code",
   "execution_count": 13,
   "metadata": {},
   "outputs": [
    {
     "ename": "AttributeError",
     "evalue": "Can only use .str accessor with string values!",
     "output_type": "error",
     "traceback": [
      "\u001b[0;31m---------------------------------------------------------------------------\u001b[0m",
      "\u001b[0;31mAttributeError\u001b[0m                            Traceback (most recent call last)",
      "Cell \u001b[0;32mIn[13], line 1\u001b[0m\n\u001b[0;32m----> 1\u001b[0m classification_results \u001b[38;5;241m=\u001b[39m \u001b[43madd_formatted_column\u001b[49m\u001b[43m(\u001b[49m\u001b[43mclassification_results\u001b[49m\u001b[43m,\u001b[49m\u001b[43m \u001b[49m\u001b[38;5;124;43m'\u001b[39;49m\u001b[38;5;124;43mf1\u001b[39;49m\u001b[38;5;124;43m'\u001b[39;49m\u001b[43m)\u001b[49m\n\u001b[1;32m      2\u001b[0m classification_results\n",
      "File \u001b[0;32m/gpfs/work5/0/prjs1491/Attention-based-RL-MIL/aggregate_results.py:345\u001b[0m, in \u001b[0;36madd_formatted_column\u001b[0;34m(df, metric, extra_groupby_cols)\u001b[0m\n\u001b[1;32m    343\u001b[0m mil_df \u001b[38;5;241m=\u001b[39m df[df[\u001b[38;5;124m'\u001b[39m\u001b[38;5;124mprefix\u001b[39m\u001b[38;5;124m'\u001b[39m] \u001b[38;5;241m==\u001b[39m \u001b[38;5;124m'\u001b[39m\u001b[38;5;124m---\u001b[39m\u001b[38;5;124m'\u001b[39m]\n\u001b[1;32m    344\u001b[0m ensemble_df \u001b[38;5;241m=\u001b[39m df[df[\u001b[38;5;124m'\u001b[39m\u001b[38;5;124mprefix\u001b[39m\u001b[38;5;124m'\u001b[39m] \u001b[38;5;241m==\u001b[39m \u001b[38;5;124m'\u001b[39m\u001b[38;5;124mensemble\u001b[39m\u001b[38;5;124m'\u001b[39m]\n\u001b[0;32m--> 345\u001b[0m rlmil_df \u001b[38;5;241m=\u001b[39m df[\u001b[43mdf\u001b[49m\u001b[43m[\u001b[49m\u001b[38;5;124;43m'\u001b[39;49m\u001b[38;5;124;43mmodel\u001b[39;49m\u001b[38;5;124;43m'\u001b[39;49m\u001b[43m]\u001b[49m\u001b[38;5;241;43m.\u001b[39;49m\u001b[43mstr\u001b[49m\u001b[38;5;241m.\u001b[39mstartswith(\u001b[38;5;124m'\u001b[39m\u001b[38;5;124mRL-\u001b[39m\u001b[38;5;124m'\u001b[39m)]\n\u001b[1;32m    347\u001b[0m groupby_cols \u001b[38;5;241m=\u001b[39m [\u001b[38;5;124m'\u001b[39m\u001b[38;5;124mmodel\u001b[39m\u001b[38;5;124m'\u001b[39m, \u001b[38;5;124m'\u001b[39m\u001b[38;5;124mdataset\u001b[39m\u001b[38;5;124m'\u001b[39m, \u001b[38;5;124m'\u001b[39m\u001b[38;5;124mlabel\u001b[39m\u001b[38;5;124m'\u001b[39m] \u001b[38;5;241m+\u001b[39m extra_groupby_cols\n\u001b[1;32m    349\u001b[0m mil_df \u001b[38;5;241m=\u001b[39m mil_df\u001b[38;5;241m.\u001b[39mgroupby(groupby_cols)[\u001b[38;5;124mf\u001b[39m\u001b[38;5;124m'\u001b[39m\u001b[38;5;124mtest/\u001b[39m\u001b[38;5;132;01m{\u001b[39;00mmetric\u001b[38;5;132;01m}\u001b[39;00m\u001b[38;5;124m'\u001b[39m]\u001b[38;5;241m.\u001b[39magg([np\u001b[38;5;241m.\u001b[39mmean, np\u001b[38;5;241m.\u001b[39mstd])\u001b[38;5;241m.\u001b[39mreset_index()\n",
      "File \u001b[0;32m/projects/prjs1491/Attention-based-RL-MIL/venv/lib64/python3.9/site-packages/pandas/core/generic.py:6299\u001b[0m, in \u001b[0;36mNDFrame.__getattr__\u001b[0;34m(self, name)\u001b[0m\n\u001b[1;32m   6292\u001b[0m \u001b[38;5;28;01mif\u001b[39;00m (\n\u001b[1;32m   6293\u001b[0m     name \u001b[38;5;129;01mnot\u001b[39;00m \u001b[38;5;129;01min\u001b[39;00m \u001b[38;5;28mself\u001b[39m\u001b[38;5;241m.\u001b[39m_internal_names_set\n\u001b[1;32m   6294\u001b[0m     \u001b[38;5;129;01mand\u001b[39;00m name \u001b[38;5;129;01mnot\u001b[39;00m \u001b[38;5;129;01min\u001b[39;00m \u001b[38;5;28mself\u001b[39m\u001b[38;5;241m.\u001b[39m_metadata\n\u001b[1;32m   6295\u001b[0m     \u001b[38;5;129;01mand\u001b[39;00m name \u001b[38;5;129;01mnot\u001b[39;00m \u001b[38;5;129;01min\u001b[39;00m \u001b[38;5;28mself\u001b[39m\u001b[38;5;241m.\u001b[39m_accessors\n\u001b[1;32m   6296\u001b[0m     \u001b[38;5;129;01mand\u001b[39;00m \u001b[38;5;28mself\u001b[39m\u001b[38;5;241m.\u001b[39m_info_axis\u001b[38;5;241m.\u001b[39m_can_hold_identifiers_and_holds_name(name)\n\u001b[1;32m   6297\u001b[0m ):\n\u001b[1;32m   6298\u001b[0m     \u001b[38;5;28;01mreturn\u001b[39;00m \u001b[38;5;28mself\u001b[39m[name]\n\u001b[0;32m-> 6299\u001b[0m \u001b[38;5;28;01mreturn\u001b[39;00m \u001b[38;5;28;43mobject\u001b[39;49m\u001b[38;5;241;43m.\u001b[39;49m\u001b[38;5;21;43m__getattribute__\u001b[39;49m\u001b[43m(\u001b[49m\u001b[38;5;28;43mself\u001b[39;49m\u001b[43m,\u001b[49m\u001b[43m \u001b[49m\u001b[43mname\u001b[49m\u001b[43m)\u001b[49m\n",
      "File \u001b[0;32m/projects/prjs1491/Attention-based-RL-MIL/venv/lib64/python3.9/site-packages/pandas/core/accessor.py:224\u001b[0m, in \u001b[0;36mCachedAccessor.__get__\u001b[0;34m(self, obj, cls)\u001b[0m\n\u001b[1;32m    221\u001b[0m \u001b[38;5;28;01mif\u001b[39;00m obj \u001b[38;5;129;01mis\u001b[39;00m \u001b[38;5;28;01mNone\u001b[39;00m:\n\u001b[1;32m    222\u001b[0m     \u001b[38;5;66;03m# we're accessing the attribute of the class, i.e., Dataset.geo\u001b[39;00m\n\u001b[1;32m    223\u001b[0m     \u001b[38;5;28;01mreturn\u001b[39;00m \u001b[38;5;28mself\u001b[39m\u001b[38;5;241m.\u001b[39m_accessor\n\u001b[0;32m--> 224\u001b[0m accessor_obj \u001b[38;5;241m=\u001b[39m \u001b[38;5;28;43mself\u001b[39;49m\u001b[38;5;241;43m.\u001b[39;49m\u001b[43m_accessor\u001b[49m\u001b[43m(\u001b[49m\u001b[43mobj\u001b[49m\u001b[43m)\u001b[49m\n\u001b[1;32m    225\u001b[0m \u001b[38;5;66;03m# Replace the property with the accessor object. Inspired by:\u001b[39;00m\n\u001b[1;32m    226\u001b[0m \u001b[38;5;66;03m# https://www.pydanny.com/cached-property.html\u001b[39;00m\n\u001b[1;32m    227\u001b[0m \u001b[38;5;66;03m# We need to use object.__setattr__ because we overwrite __setattr__ on\u001b[39;00m\n\u001b[1;32m    228\u001b[0m \u001b[38;5;66;03m# NDFrame\u001b[39;00m\n\u001b[1;32m    229\u001b[0m \u001b[38;5;28mobject\u001b[39m\u001b[38;5;241m.\u001b[39m\u001b[38;5;21m__setattr__\u001b[39m(obj, \u001b[38;5;28mself\u001b[39m\u001b[38;5;241m.\u001b[39m_name, accessor_obj)\n",
      "File \u001b[0;32m/projects/prjs1491/Attention-based-RL-MIL/venv/lib64/python3.9/site-packages/pandas/core/strings/accessor.py:191\u001b[0m, in \u001b[0;36mStringMethods.__init__\u001b[0;34m(self, data)\u001b[0m\n\u001b[1;32m    188\u001b[0m \u001b[38;5;28;01mdef\u001b[39;00m\u001b[38;5;250m \u001b[39m\u001b[38;5;21m__init__\u001b[39m(\u001b[38;5;28mself\u001b[39m, data) \u001b[38;5;241m-\u001b[39m\u001b[38;5;241m>\u001b[39m \u001b[38;5;28;01mNone\u001b[39;00m:\n\u001b[1;32m    189\u001b[0m     \u001b[38;5;28;01mfrom\u001b[39;00m\u001b[38;5;250m \u001b[39m\u001b[38;5;21;01mpandas\u001b[39;00m\u001b[38;5;21;01m.\u001b[39;00m\u001b[38;5;21;01mcore\u001b[39;00m\u001b[38;5;21;01m.\u001b[39;00m\u001b[38;5;21;01marrays\u001b[39;00m\u001b[38;5;21;01m.\u001b[39;00m\u001b[38;5;21;01mstring_\u001b[39;00m\u001b[38;5;250m \u001b[39m\u001b[38;5;28;01mimport\u001b[39;00m StringDtype\n\u001b[0;32m--> 191\u001b[0m     \u001b[38;5;28mself\u001b[39m\u001b[38;5;241m.\u001b[39m_inferred_dtype \u001b[38;5;241m=\u001b[39m \u001b[38;5;28;43mself\u001b[39;49m\u001b[38;5;241;43m.\u001b[39;49m\u001b[43m_validate\u001b[49m\u001b[43m(\u001b[49m\u001b[43mdata\u001b[49m\u001b[43m)\u001b[49m\n\u001b[1;32m    192\u001b[0m     \u001b[38;5;28mself\u001b[39m\u001b[38;5;241m.\u001b[39m_is_categorical \u001b[38;5;241m=\u001b[39m \u001b[38;5;28misinstance\u001b[39m(data\u001b[38;5;241m.\u001b[39mdtype, CategoricalDtype)\n\u001b[1;32m    193\u001b[0m     \u001b[38;5;28mself\u001b[39m\u001b[38;5;241m.\u001b[39m_is_string \u001b[38;5;241m=\u001b[39m \u001b[38;5;28misinstance\u001b[39m(data\u001b[38;5;241m.\u001b[39mdtype, StringDtype)\n",
      "File \u001b[0;32m/projects/prjs1491/Attention-based-RL-MIL/venv/lib64/python3.9/site-packages/pandas/core/strings/accessor.py:245\u001b[0m, in \u001b[0;36mStringMethods._validate\u001b[0;34m(data)\u001b[0m\n\u001b[1;32m    242\u001b[0m inferred_dtype \u001b[38;5;241m=\u001b[39m lib\u001b[38;5;241m.\u001b[39minfer_dtype(values, skipna\u001b[38;5;241m=\u001b[39m\u001b[38;5;28;01mTrue\u001b[39;00m)\n\u001b[1;32m    244\u001b[0m \u001b[38;5;28;01mif\u001b[39;00m inferred_dtype \u001b[38;5;129;01mnot\u001b[39;00m \u001b[38;5;129;01min\u001b[39;00m allowed_types:\n\u001b[0;32m--> 245\u001b[0m     \u001b[38;5;28;01mraise\u001b[39;00m \u001b[38;5;167;01mAttributeError\u001b[39;00m(\u001b[38;5;124m\"\u001b[39m\u001b[38;5;124mCan only use .str accessor with string values!\u001b[39m\u001b[38;5;124m\"\u001b[39m)\n\u001b[1;32m    246\u001b[0m \u001b[38;5;28;01mreturn\u001b[39;00m inferred_dtype\n",
      "\u001b[0;31mAttributeError\u001b[0m: Can only use .str accessor with string values!"
     ]
    }
   ],
   "source": [
    "classification_results = add_formatted_column(classification_results, 'f1')\n",
    "classification_results"
   ]
  },
  {
   "cell_type": "code",
   "execution_count": 11,
   "metadata": {},
   "outputs": [
    {
     "data": {
      "text/plain": [
       "array(['incas'], dtype=object)"
      ]
     },
     "execution_count": 11,
     "metadata": {},
     "output_type": "execute_result"
    }
   ],
   "source": [
    "classification_results.dataset.unique()"
   ]
  },
  {
   "cell_type": "code",
   "execution_count": 12,
   "metadata": {},
   "outputs": [],
   "source": [
    "save_dataset_table(classification_results, 'incas', 'f1', 'classification')"
   ]
  },
  {
   "cell_type": "code",
   "execution_count": 18,
   "metadata": {},
   "outputs": [
    {
     "name": "stdout",
     "output_type": "stream",
     "text": [
      "Checking base model path: runs\n",
      "Contents of runs: ['classification']\n",
      "\n",
      "Checking task-specific path: runs/classification\n",
      "Contents of runs/classification: ['seed_6', 'seed_1', 'seed_8', 'seed_2', 'seed_4', 'seed_0', 'seed_7', 'seed_10', 'seed_9', 'seed_3', 'seed_5']\n",
      "\n",
      "Checking specific seed path: runs/classification/seed_1\n",
      "Contents of runs/classification/seed_1: ['oulad_aggregated', 'oulad_full']\n"
     ]
    }
   ],
   "source": [
    "import os\n",
    "\n",
    "data_path = 'data' # As you defined\n",
    "model_path = 'runs' # As you defined\n",
    "task_type = 'classification' # As you defined\n",
    "\n",
    "print(f\"Checking base model path: {model_path}\")\n",
    "if os.path.exists(model_path):\n",
    "    print(f\"Contents of {model_path}: {os.listdir(model_path)}\")\n",
    "else:\n",
    "    print(f\"ERROR: {model_path} does NOT exist or is not accessible.\")\n",
    "\n",
    "classification_path = os.path.join(model_path, task_type)\n",
    "print(f\"\\nChecking task-specific path: {classification_path}\")\n",
    "if os.path.exists(classification_path):\n",
    "    print(f\"Contents of {classification_path}: {os.listdir(classification_path)}\")\n",
    "else:\n",
    "    print(f\"ERROR: {classification_path} does NOT exist or is not accessible.\")\n",
    "\n",
    "# Check one specific seed directory, e.g., seed_1\n",
    "seed_1_path = os.path.join(classification_path, \"seed_1\")\n",
    "print(f\"\\nChecking specific seed path: {seed_1_path}\")\n",
    "if os.path.exists(seed_1_path):\n",
    "    print(f\"Contents of {seed_1_path}: {os.listdir(seed_1_path)}\")\n",
    "else:\n",
    "    print(f\"ERROR: {seed_1_path} does NOT exist or is not accessible.\")"
   ]
  },
  {
   "cell_type": "code",
   "execution_count": 9,
   "metadata": {},
   "outputs": [
    {
     "name": "stdout",
     "output_type": "stream",
     "text": [
      "/gpfs/work5/0/prjs1491/Attention-based-RL-MIL\n"
     ]
    }
   ],
   "source": [
    "import os\n",
    "print(os.getcwd())"
   ]
  }
 ],
 "metadata": {
  "kernelspec": {
   "display_name": "Python 3 (ipykernel)",
   "language": "python",
   "name": "python3"
  },
  "language_info": {
   "codemirror_mode": {
    "name": "ipython",
    "version": 3
   },
   "file_extension": ".py",
   "mimetype": "text/x-python",
   "name": "python",
   "nbconvert_exporter": "python",
   "pygments_lexer": "ipython3",
   "version": "3.9.18"
  }
 },
 "nbformat": 4,
 "nbformat_minor": 4
}
